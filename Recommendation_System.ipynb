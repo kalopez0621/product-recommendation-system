{
 "cells": [
  {
   "cell_type": "markdown",
   "metadata": {},
   "source": [
    "## Setting up environment"
   ]
  },
  {
   "cell_type": "code",
   "execution_count": 2,
   "metadata": {},
   "outputs": [
    {
     "name": "stdout",
     "output_type": "stream",
     "text": [
      "Requirement already satisfied: pandas in c:\\users\\kalop\\onedrive\\desktop\\mdc its\\cai2820c - ai applications\\week4\\.venv\\lib\\site-packages (2.2.3)Note: you may need to restart the kernel to use updated packages.\n",
      "\n",
      "Requirement already satisfied: numpy in c:\\users\\kalop\\onedrive\\desktop\\mdc its\\cai2820c - ai applications\\week4\\.venv\\lib\\site-packages (1.26.4)\n",
      "Requirement already satisfied: streamlit in c:\\users\\kalop\\onedrive\\desktop\\mdc its\\cai2820c - ai applications\\week4\\.venv\\lib\\site-packages (1.41.1)\n",
      "Requirement already satisfied: gensim in c:\\users\\kalop\\onedrive\\desktop\\mdc its\\cai2820c - ai applications\\week4\\.venv\\lib\\site-packages (4.3.3)\n",
      "Requirement already satisfied: scikit-learn in c:\\users\\kalop\\onedrive\\desktop\\mdc its\\cai2820c - ai applications\\week4\\.venv\\lib\\site-packages (1.6.1)\n",
      "Requirement already satisfied: python-dateutil>=2.8.2 in c:\\users\\kalop\\onedrive\\desktop\\mdc its\\cai2820c - ai applications\\week4\\.venv\\lib\\site-packages (from pandas) (2.9.0.post0)\n",
      "Requirement already satisfied: pytz>=2020.1 in c:\\users\\kalop\\onedrive\\desktop\\mdc its\\cai2820c - ai applications\\week4\\.venv\\lib\\site-packages (from pandas) (2025.1)\n",
      "Requirement already satisfied: tzdata>=2022.7 in c:\\users\\kalop\\onedrive\\desktop\\mdc its\\cai2820c - ai applications\\week4\\.venv\\lib\\site-packages (from pandas) (2025.1)\n",
      "Requirement already satisfied: altair<6,>=4.0 in c:\\users\\kalop\\onedrive\\desktop\\mdc its\\cai2820c - ai applications\\week4\\.venv\\lib\\site-packages (from streamlit) (5.5.0)\n",
      "Requirement already satisfied: blinker<2,>=1.0.0 in c:\\users\\kalop\\onedrive\\desktop\\mdc its\\cai2820c - ai applications\\week4\\.venv\\lib\\site-packages (from streamlit) (1.9.0)\n",
      "Requirement already satisfied: cachetools<6,>=4.0 in c:\\users\\kalop\\onedrive\\desktop\\mdc its\\cai2820c - ai applications\\week4\\.venv\\lib\\site-packages (from streamlit) (5.5.1)\n",
      "Requirement already satisfied: click<9,>=7.0 in c:\\users\\kalop\\onedrive\\desktop\\mdc its\\cai2820c - ai applications\\week4\\.venv\\lib\\site-packages (from streamlit) (8.1.8)\n",
      "Requirement already satisfied: packaging<25,>=20 in c:\\users\\kalop\\onedrive\\desktop\\mdc its\\cai2820c - ai applications\\week4\\.venv\\lib\\site-packages (from streamlit) (24.2)\n",
      "Requirement already satisfied: pillow<12,>=7.1.0 in c:\\users\\kalop\\onedrive\\desktop\\mdc its\\cai2820c - ai applications\\week4\\.venv\\lib\\site-packages (from streamlit) (11.1.0)\n",
      "Requirement already satisfied: protobuf<6,>=3.20 in c:\\users\\kalop\\onedrive\\desktop\\mdc its\\cai2820c - ai applications\\week4\\.venv\\lib\\site-packages (from streamlit) (5.29.3)\n",
      "Requirement already satisfied: pyarrow>=7.0 in c:\\users\\kalop\\onedrive\\desktop\\mdc its\\cai2820c - ai applications\\week4\\.venv\\lib\\site-packages (from streamlit) (19.0.0)\n",
      "Requirement already satisfied: requests<3,>=2.27 in c:\\users\\kalop\\onedrive\\desktop\\mdc its\\cai2820c - ai applications\\week4\\.venv\\lib\\site-packages (from streamlit) (2.32.3)\n",
      "Requirement already satisfied: rich<14,>=10.14.0 in c:\\users\\kalop\\onedrive\\desktop\\mdc its\\cai2820c - ai applications\\week4\\.venv\\lib\\site-packages (from streamlit) (13.9.4)\n",
      "Requirement already satisfied: tenacity<10,>=8.1.0 in c:\\users\\kalop\\onedrive\\desktop\\mdc its\\cai2820c - ai applications\\week4\\.venv\\lib\\site-packages (from streamlit) (9.0.0)\n",
      "Requirement already satisfied: toml<2,>=0.10.1 in c:\\users\\kalop\\onedrive\\desktop\\mdc its\\cai2820c - ai applications\\week4\\.venv\\lib\\site-packages (from streamlit) (0.10.2)\n",
      "Requirement already satisfied: typing-extensions<5,>=4.3.0 in c:\\users\\kalop\\onedrive\\desktop\\mdc its\\cai2820c - ai applications\\week4\\.venv\\lib\\site-packages (from streamlit) (4.12.2)\n",
      "Requirement already satisfied: watchdog<7,>=2.1.5 in c:\\users\\kalop\\onedrive\\desktop\\mdc its\\cai2820c - ai applications\\week4\\.venv\\lib\\site-packages (from streamlit) (6.0.0)\n",
      "Requirement already satisfied: gitpython!=3.1.19,<4,>=3.0.7 in c:\\users\\kalop\\onedrive\\desktop\\mdc its\\cai2820c - ai applications\\week4\\.venv\\lib\\site-packages (from streamlit) (3.1.44)\n",
      "Requirement already satisfied: pydeck<1,>=0.8.0b4 in c:\\users\\kalop\\onedrive\\desktop\\mdc its\\cai2820c - ai applications\\week4\\.venv\\lib\\site-packages (from streamlit) (0.9.1)\n",
      "Requirement already satisfied: tornado<7,>=6.0.3 in c:\\users\\kalop\\onedrive\\desktop\\mdc its\\cai2820c - ai applications\\week4\\.venv\\lib\\site-packages (from streamlit) (6.4.2)\n",
      "Requirement already satisfied: scipy<1.14.0,>=1.7.0 in c:\\users\\kalop\\onedrive\\desktop\\mdc its\\cai2820c - ai applications\\week4\\.venv\\lib\\site-packages (from gensim) (1.13.1)\n",
      "Requirement already satisfied: smart-open>=1.8.1 in c:\\users\\kalop\\onedrive\\desktop\\mdc its\\cai2820c - ai applications\\week4\\.venv\\lib\\site-packages (from gensim) (7.1.0)\n",
      "Requirement already satisfied: joblib>=1.2.0 in c:\\users\\kalop\\onedrive\\desktop\\mdc its\\cai2820c - ai applications\\week4\\.venv\\lib\\site-packages (from scikit-learn) (1.4.2)\n",
      "Requirement already satisfied: threadpoolctl>=3.1.0 in c:\\users\\kalop\\onedrive\\desktop\\mdc its\\cai2820c - ai applications\\week4\\.venv\\lib\\site-packages (from scikit-learn) (3.5.0)\n",
      "Requirement already satisfied: jinja2 in c:\\users\\kalop\\onedrive\\desktop\\mdc its\\cai2820c - ai applications\\week4\\.venv\\lib\\site-packages (from altair<6,>=4.0->streamlit) (3.1.5)\n",
      "Requirement already satisfied: jsonschema>=3.0 in c:\\users\\kalop\\onedrive\\desktop\\mdc its\\cai2820c - ai applications\\week4\\.venv\\lib\\site-packages (from altair<6,>=4.0->streamlit) (4.23.0)\n",
      "Requirement already satisfied: narwhals>=1.14.2 in c:\\users\\kalop\\onedrive\\desktop\\mdc its\\cai2820c - ai applications\\week4\\.venv\\lib\\site-packages (from altair<6,>=4.0->streamlit) (1.24.2)\n",
      "Requirement already satisfied: colorama in c:\\users\\kalop\\onedrive\\desktop\\mdc its\\cai2820c - ai applications\\week4\\.venv\\lib\\site-packages (from click<9,>=7.0->streamlit) (0.4.6)\n",
      "Requirement already satisfied: gitdb<5,>=4.0.1 in c:\\users\\kalop\\onedrive\\desktop\\mdc its\\cai2820c - ai applications\\week4\\.venv\\lib\\site-packages (from gitpython!=3.1.19,<4,>=3.0.7->streamlit) (4.0.12)\n",
      "Requirement already satisfied: six>=1.5 in c:\\users\\kalop\\onedrive\\desktop\\mdc its\\cai2820c - ai applications\\week4\\.venv\\lib\\site-packages (from python-dateutil>=2.8.2->pandas) (1.17.0)\n",
      "Requirement already satisfied: charset-normalizer<4,>=2 in c:\\users\\kalop\\onedrive\\desktop\\mdc its\\cai2820c - ai applications\\week4\\.venv\\lib\\site-packages (from requests<3,>=2.27->streamlit) (3.4.1)\n",
      "Requirement already satisfied: idna<4,>=2.5 in c:\\users\\kalop\\onedrive\\desktop\\mdc its\\cai2820c - ai applications\\week4\\.venv\\lib\\site-packages (from requests<3,>=2.27->streamlit) (3.10)\n",
      "Requirement already satisfied: urllib3<3,>=1.21.1 in c:\\users\\kalop\\onedrive\\desktop\\mdc its\\cai2820c - ai applications\\week4\\.venv\\lib\\site-packages (from requests<3,>=2.27->streamlit) (2.3.0)\n",
      "Requirement already satisfied: certifi>=2017.4.17 in c:\\users\\kalop\\onedrive\\desktop\\mdc its\\cai2820c - ai applications\\week4\\.venv\\lib\\site-packages (from requests<3,>=2.27->streamlit) (2025.1.31)\n",
      "Requirement already satisfied: markdown-it-py>=2.2.0 in c:\\users\\kalop\\onedrive\\desktop\\mdc its\\cai2820c - ai applications\\week4\\.venv\\lib\\site-packages (from rich<14,>=10.14.0->streamlit) (3.0.0)\n",
      "Requirement already satisfied: pygments<3.0.0,>=2.13.0 in c:\\users\\kalop\\onedrive\\desktop\\mdc its\\cai2820c - ai applications\\week4\\.venv\\lib\\site-packages (from rich<14,>=10.14.0->streamlit) (2.19.1)\n",
      "Requirement already satisfied: wrapt in c:\\users\\kalop\\onedrive\\desktop\\mdc its\\cai2820c - ai applications\\week4\\.venv\\lib\\site-packages (from smart-open>=1.8.1->gensim) (1.17.2)\n",
      "Requirement already satisfied: smmap<6,>=3.0.1 in c:\\users\\kalop\\onedrive\\desktop\\mdc its\\cai2820c - ai applications\\week4\\.venv\\lib\\site-packages (from gitdb<5,>=4.0.1->gitpython!=3.1.19,<4,>=3.0.7->streamlit) (5.0.2)\n",
      "Requirement already satisfied: MarkupSafe>=2.0 in c:\\users\\kalop\\onedrive\\desktop\\mdc its\\cai2820c - ai applications\\week4\\.venv\\lib\\site-packages (from jinja2->altair<6,>=4.0->streamlit) (3.0.2)\n",
      "Requirement already satisfied: attrs>=22.2.0 in c:\\users\\kalop\\onedrive\\desktop\\mdc its\\cai2820c - ai applications\\week4\\.venv\\lib\\site-packages (from jsonschema>=3.0->altair<6,>=4.0->streamlit) (25.1.0)\n",
      "Requirement already satisfied: jsonschema-specifications>=2023.03.6 in c:\\users\\kalop\\onedrive\\desktop\\mdc its\\cai2820c - ai applications\\week4\\.venv\\lib\\site-packages (from jsonschema>=3.0->altair<6,>=4.0->streamlit) (2024.10.1)\n",
      "Requirement already satisfied: referencing>=0.28.4 in c:\\users\\kalop\\onedrive\\desktop\\mdc its\\cai2820c - ai applications\\week4\\.venv\\lib\\site-packages (from jsonschema>=3.0->altair<6,>=4.0->streamlit) (0.36.2)\n",
      "Requirement already satisfied: rpds-py>=0.7.1 in c:\\users\\kalop\\onedrive\\desktop\\mdc its\\cai2820c - ai applications\\week4\\.venv\\lib\\site-packages (from jsonschema>=3.0->altair<6,>=4.0->streamlit) (0.22.3)\n",
      "Requirement already satisfied: mdurl~=0.1 in c:\\users\\kalop\\onedrive\\desktop\\mdc its\\cai2820c - ai applications\\week4\\.venv\\lib\\site-packages (from markdown-it-py>=2.2.0->rich<14,>=10.14.0->streamlit) (0.1.2)\n"
     ]
    }
   ],
   "source": [
    "pip install pandas numpy streamlit gensim scikit-learn\n"
   ]
  },
  {
   "cell_type": "markdown",
   "metadata": {},
   "source": [
    "## Load and Explore the Dataset"
   ]
  },
  {
   "cell_type": "code",
   "execution_count": 3,
   "metadata": {},
   "outputs": [
    {
     "data": {
      "text/html": [
       "<div>\n",
       "<style scoped>\n",
       "    .dataframe tbody tr th:only-of-type {\n",
       "        vertical-align: middle;\n",
       "    }\n",
       "\n",
       "    .dataframe tbody tr th {\n",
       "        vertical-align: top;\n",
       "    }\n",
       "\n",
       "    .dataframe thead th {\n",
       "        text-align: right;\n",
       "    }\n",
       "</style>\n",
       "<table border=\"1\" class=\"dataframe\">\n",
       "  <thead>\n",
       "    <tr style=\"text-align: right;\">\n",
       "      <th></th>\n",
       "      <th>id</th>\n",
       "      <th>description</th>\n",
       "    </tr>\n",
       "  </thead>\n",
       "  <tbody>\n",
       "    <tr>\n",
       "      <th>0</th>\n",
       "      <td>1</td>\n",
       "      <td>Active classic boxers - There's a reason why o...</td>\n",
       "    </tr>\n",
       "    <tr>\n",
       "      <th>1</th>\n",
       "      <td>2</td>\n",
       "      <td>Active sport boxer briefs - Skinning up Glory ...</td>\n",
       "    </tr>\n",
       "    <tr>\n",
       "      <th>2</th>\n",
       "      <td>3</td>\n",
       "      <td>Active sport briefs - These superbreathable no...</td>\n",
       "    </tr>\n",
       "    <tr>\n",
       "      <th>3</th>\n",
       "      <td>4</td>\n",
       "      <td>Alpine guide pants - Skin in, climb ice, switc...</td>\n",
       "    </tr>\n",
       "    <tr>\n",
       "      <th>4</th>\n",
       "      <td>5</td>\n",
       "      <td>Alpine wind jkt - On high ridges, steep ice an...</td>\n",
       "    </tr>\n",
       "  </tbody>\n",
       "</table>\n",
       "</div>"
      ],
      "text/plain": [
       "   id                                        description\n",
       "0   1  Active classic boxers - There's a reason why o...\n",
       "1   2  Active sport boxer briefs - Skinning up Glory ...\n",
       "2   3  Active sport briefs - These superbreathable no...\n",
       "3   4  Alpine guide pants - Skin in, climb ice, switc...\n",
       "4   5  Alpine wind jkt - On high ridges, steep ice an..."
      ]
     },
     "execution_count": 3,
     "metadata": {},
     "output_type": "execute_result"
    }
   ],
   "source": [
    "import pandas as pd\n",
    "\n",
    "# Define the dataset URL\n",
    "url = \"https://raw.githubusercontent.com/fenago/datasets/refs/heads/main/sample-data.csv\"\n",
    "\n",
    "# Load the dataset into a Pandas DataFrame\n",
    "df = pd.read_csv(url)\n",
    "\n",
    "# Display the first few rows to understand the structure\n",
    "df.head()\n"
   ]
  },
  {
   "cell_type": "code",
   "execution_count": 16,
   "metadata": {},
   "outputs": [
    {
     "name": "stdout",
     "output_type": "stream",
     "text": [
      "<class 'pandas.core.frame.DataFrame'>\n",
      "RangeIndex: 500 entries, 0 to 499\n",
      "Data columns (total 4 columns):\n",
      " #   Column          Non-Null Count  Dtype \n",
      "---  ------          --------------  ----- \n",
      " 0   id              500 non-null    int64 \n",
      " 1   description     500 non-null    object\n",
      " 2   tokenized_desc  500 non-null    object\n",
      " 3   vector          500 non-null    object\n",
      "dtypes: int64(1), object(3)\n",
      "memory usage: 15.8+ KB\n",
      "\n",
      "Missing Values:\n",
      " id                0\n",
      "description       0\n",
      "tokenized_desc    0\n",
      "vector            0\n",
      "dtype: int64\n",
      "\n",
      "Duplicate rows: 0\n",
      "\n",
      "Description Length Statistics:\n",
      " count     500.000000\n",
      "mean     1016.356000\n",
      "std       414.537361\n",
      "min       309.000000\n",
      "25%       710.750000\n",
      "50%       939.500000\n",
      "75%      1271.500000\n",
      "max      3415.000000\n",
      "Name: desc_length, dtype: float64\n"
     ]
    }
   ],
   "source": [
    "# Get dataset info\n",
    "df.info()\n",
    "\n",
    "# Check for missing values\n",
    "missing_values = df.isnull().sum()\n",
    "print(\"\\nMissing Values:\\n\", missing_values)\n",
    "\n",
    "# Check for duplicate rows based on 'id' and 'description' only\n",
    "duplicate_count = df.duplicated(subset=[\"id\", \"description\"]).sum()\n",
    "print(\"\\nDuplicate rows:\", duplicate_count)\n",
    "\n",
    "# Ensure all descriptions are strings before checking length\n",
    "df[\"description\"] = df[\"description\"].astype(str)\n",
    "\n",
    "# Check description length distribution\n",
    "df[\"desc_length\"] = df[\"description\"].apply(len)\n",
    "print(\"\\nDescription Length Statistics:\\n\", df[\"desc_length\"].describe())\n"
   ]
  },
  {
   "cell_type": "markdown",
   "metadata": {},
   "source": [
    "## Preprocess Data"
   ]
  },
  {
   "cell_type": "code",
   "execution_count": 19,
   "metadata": {},
   "outputs": [],
   "source": [
    "import re\n",
    "\n",
    "# Function to clean HTML tags and strip extra spaces\n",
    "def clean_html(text):\n",
    "    text = text.strip()  # Remove leading/trailing spaces\n",
    "    return re.sub(r'<[^>]*>', '', text)\n",
    "\n",
    "# Apply the cleaning function to the description column\n",
    "df[\"description\"] = df[\"description\"].astype(str).apply(clean_html)\n",
    "\n"
   ]
  },
  {
   "cell_type": "code",
   "execution_count": 21,
   "metadata": {},
   "outputs": [],
   "source": [
    "# Extract product names (before the first '-')\n",
    "df[\"product_name\"] = df[\"description\"].apply(lambda x: x.split(\" - \")[0])\n"
   ]
  },
  {
   "cell_type": "code",
   "execution_count": 23,
   "metadata": {},
   "outputs": [],
   "source": [
    "from gensim.parsing.preprocessing import remove_stopwords\n"
   ]
  },
  {
   "cell_type": "code",
   "execution_count": 25,
   "metadata": {},
   "outputs": [
    {
     "data": {
      "text/html": [
       "<div>\n",
       "<style scoped>\n",
       "    .dataframe tbody tr th:only-of-type {\n",
       "        vertical-align: middle;\n",
       "    }\n",
       "\n",
       "    .dataframe tbody tr th {\n",
       "        vertical-align: top;\n",
       "    }\n",
       "\n",
       "    .dataframe thead th {\n",
       "        text-align: right;\n",
       "    }\n",
       "</style>\n",
       "<table border=\"1\" class=\"dataframe\">\n",
       "  <thead>\n",
       "    <tr style=\"text-align: right;\">\n",
       "      <th></th>\n",
       "      <th>id</th>\n",
       "      <th>description</th>\n",
       "      <th>tokenized_desc</th>\n",
       "      <th>vector</th>\n",
       "      <th>desc_length</th>\n",
       "      <th>product_name</th>\n",
       "    </tr>\n",
       "  </thead>\n",
       "  <tbody>\n",
       "    <tr>\n",
       "      <th>0</th>\n",
       "      <td>1</td>\n",
       "      <td>Active classic boxers - There's a reason why o...</td>\n",
       "      <td>[active, classic, boxers, there, reason, boxer...</td>\n",
       "      <td>[-0.31052437, 0.72945154, -0.004279416, 0.2273...</td>\n",
       "      <td>917</td>\n",
       "      <td>Active classic boxers</td>\n",
       "    </tr>\n",
       "    <tr>\n",
       "      <th>1</th>\n",
       "      <td>2</td>\n",
       "      <td>Active sport boxer briefs - Skinning up Glory ...</td>\n",
       "      <td>[active, sport, boxer, briefs, skinning, glory...</td>\n",
       "      <td>[-0.30757818, 0.664468, 0.022860603, 0.1919254...</td>\n",
       "      <td>955</td>\n",
       "      <td>Active sport boxer briefs</td>\n",
       "    </tr>\n",
       "    <tr>\n",
       "      <th>2</th>\n",
       "      <td>3</td>\n",
       "      <td>Active sport briefs - These superbreathable no...</td>\n",
       "      <td>[active, sport, briefs, these, superbreathable...</td>\n",
       "      <td>[-0.31454727, 0.6867121, 0.027406529, 0.169458...</td>\n",
       "      <td>856</td>\n",
       "      <td>Active sport briefs</td>\n",
       "    </tr>\n",
       "    <tr>\n",
       "      <th>3</th>\n",
       "      <td>4</td>\n",
       "      <td>Alpine guide pants - Skin in, climb ice, switc...</td>\n",
       "      <td>[alpine, guide, pants, skin, in, climb, ice, s...</td>\n",
       "      <td>[-0.3598595, 0.5544191, 0.089493334, -0.032980...</td>\n",
       "      <td>1246</td>\n",
       "      <td>Alpine guide pants</td>\n",
       "    </tr>\n",
       "    <tr>\n",
       "      <th>4</th>\n",
       "      <td>5</td>\n",
       "      <td>Alpine wind jkt - On high ridges, steep ice an...</td>\n",
       "      <td>[alpine, wind, jkt, on, high, ridges, steep, i...</td>\n",
       "      <td>[-0.28834426, 0.5535524, 0.04960581, -0.014366...</td>\n",
       "      <td>1777</td>\n",
       "      <td>Alpine wind jkt</td>\n",
       "    </tr>\n",
       "  </tbody>\n",
       "</table>\n",
       "</div>"
      ],
      "text/plain": [
       "   id                                        description  \\\n",
       "0   1  Active classic boxers - There's a reason why o...   \n",
       "1   2  Active sport boxer briefs - Skinning up Glory ...   \n",
       "2   3  Active sport briefs - These superbreathable no...   \n",
       "3   4  Alpine guide pants - Skin in, climb ice, switc...   \n",
       "4   5  Alpine wind jkt - On high ridges, steep ice an...   \n",
       "\n",
       "                                      tokenized_desc  \\\n",
       "0  [active, classic, boxers, there, reason, boxer...   \n",
       "1  [active, sport, boxer, briefs, skinning, glory...   \n",
       "2  [active, sport, briefs, these, superbreathable...   \n",
       "3  [alpine, guide, pants, skin, in, climb, ice, s...   \n",
       "4  [alpine, wind, jkt, on, high, ridges, steep, i...   \n",
       "\n",
       "                                              vector  desc_length  \\\n",
       "0  [-0.31052437, 0.72945154, -0.004279416, 0.2273...          917   \n",
       "1  [-0.30757818, 0.664468, 0.022860603, 0.1919254...          955   \n",
       "2  [-0.31454727, 0.6867121, 0.027406529, 0.169458...          856   \n",
       "3  [-0.3598595, 0.5544191, 0.089493334, -0.032980...         1246   \n",
       "4  [-0.28834426, 0.5535524, 0.04960581, -0.014366...         1777   \n",
       "\n",
       "                product_name  \n",
       "0      Active classic boxers  \n",
       "1  Active sport boxer briefs  \n",
       "2        Active sport briefs  \n",
       "3         Alpine guide pants  \n",
       "4            Alpine wind jkt  "
      ]
     },
     "execution_count": 25,
     "metadata": {},
     "output_type": "execute_result"
    }
   ],
   "source": [
    "from gensim.utils import simple_preprocess\n",
    "from gensim.parsing.preprocessing import remove_stopwords\n",
    "\n",
    "# Tokenize and remove stopwords\n",
    "df[\"tokenized_desc\"] = df[\"description\"].apply(lambda x: simple_preprocess(remove_stopwords(str(x))))\n",
    "\n",
    "# Show tokenized descriptions\n",
    "df.head()\n"
   ]
  },
  {
   "cell_type": "markdown",
   "metadata": {},
   "source": [
    "## Train Word2Vec Model"
   ]
  },
  {
   "cell_type": "code",
   "execution_count": 26,
   "metadata": {},
   "outputs": [
    {
     "name": "stdout",
     "output_type": "stream",
     "text": [
      "Model saved: True\n"
     ]
    }
   ],
   "source": [
    "from gensim.models import Word2Vec\n",
    "\n",
    "# Train a Word2Vec model using the tokenized product descriptions\n",
    "model = Word2Vec(sentences=df[\"tokenized_desc\"], vector_size=100, window=5, min_count=1, workers=4)\n",
    "\n",
    "# Save the trained model\n",
    "model.save(\"word2vec_model.model\")\n",
    "\n",
    "# Confirm the file is saved\n",
    "import os\n",
    "print(\"Model saved:\", os.path.exists(\"word2vec_model.model\"))\n"
   ]
  },
  {
   "cell_type": "code",
   "execution_count": 27,
   "metadata": {},
   "outputs": [
    {
     "name": "stdout",
     "output_type": "stream",
     "text": [
      "[('high', 0.9995107054710388), ('reinforced', 0.9994060397148132), ('quickly', 0.9991930723190308), ('vest', 0.9991602301597595), ('new', 0.9991601705551147)]\n"
     ]
    }
   ],
   "source": [
    "# Load the trained model\n",
    "model = Word2Vec.load(\"word2vec_model.model\")\n",
    "\n",
    "# Check the most similar words to a common product-related word\n",
    "print(model.wv.most_similar(\"jacket\", topn=5))  # Replace \"jacket\" with a relevant word from your dataset\n"
   ]
  },
  {
   "cell_type": "markdown",
   "metadata": {},
   "source": [
    "## Generate Product Embeddings"
   ]
  },
  {
   "cell_type": "code",
   "execution_count": 28,
   "metadata": {},
   "outputs": [
    {
     "name": "stdout",
     "output_type": "stream",
     "text": [
      "Product ID: 1\n",
      "Vector representation:\n",
      " [-0.15752764  0.37229562  0.19448332 -0.07842173  0.25029513 -0.61681926\n",
      "  0.3348309   1.0194579  -0.37136522 -0.31108612 -0.18630265 -0.6728514\n",
      " -0.05841605  0.18401515  0.03993623 -0.3935657   0.27834922 -0.3194492\n",
      " -0.07874002 -1.0805597   0.08898086 -0.05682158  0.49397376 -0.09646183\n",
      " -0.20134601  0.08627719 -0.27515876 -0.09261081 -0.46790883 -0.04814124\n",
      "  0.5752899  -0.01604998  0.09479025 -0.40389463 -0.23406161  0.48535094\n",
      "  0.12389891 -0.43363214 -0.27073768 -0.6874483   0.22697231 -0.47072482\n",
      " -0.331814    0.2253615   0.35921428 -0.16734445 -0.25986078 -0.28482482\n",
      "  0.18887492  0.07971667  0.13810699 -0.51845    -0.23594539  0.1036773\n",
      " -0.47327265  0.113109    0.20286337 -0.20014329 -0.44031778  0.05980067\n",
      "  0.1910955  -0.14379135  0.04010103 -0.18226707 -0.6831017   0.5015362\n",
      "  0.28629574  0.43577212 -0.74137306  0.56444967 -0.25612345  0.2988825\n",
      "  0.48915616 -0.00186629  0.28368574  0.20532311 -0.05865788  0.19932012\n",
      " -0.41365913  0.13954426 -0.41090074 -0.09507145 -0.39223006  0.44430795\n",
      " -0.3075231   0.08758948  0.21708928  0.29764023  0.46544978  0.15581045\n",
      "  0.5329676   0.31371433  0.16377813  0.07900536  0.86750984  0.1782192\n",
      "  0.19682252 -0.39968535  0.17627054 -0.1246784 ]\n",
      "Vector matrix shape: (500, 100)\n"
     ]
    }
   ],
   "source": [
    "import numpy as np\n",
    "\n",
    "# Function to convert text into a vector by averaging word embeddings\n",
    "def get_vector(text):\n",
    "    vectors = [model.wv[word] for word in text if word in model.wv]\n",
    "    return np.mean(vectors, axis=0) if vectors else np.zeros(100)  # 100 is the vector_size\n",
    "\n",
    "# Apply function to generate product vectors\n",
    "df[\"vector\"] = df[\"tokenized_desc\"].apply(get_vector)\n",
    "\n",
    "# Check a sample product embedding\n",
    "print(\"Product ID:\", df[\"id\"].iloc[0])\n",
    "print(\"Vector representation:\\n\", df[\"vector\"].iloc[0])\n",
    "\n",
    "# Check the shape of the matrix\n",
    "vectors = np.vstack(df[\"vector\"].values)\n",
    "print(\"Vector matrix shape:\", vectors.shape)\n"
   ]
  },
  {
   "cell_type": "code",
   "execution_count": 11,
   "metadata": {},
   "outputs": [
    {
     "data": {
      "text/plain": [
       "[('steel', 0.9971753358840942),\n",
       " ('repair', 0.9968888759613037),\n",
       " ('gear', 0.9968738555908203),\n",
       " ('low', 0.9966602921485901),\n",
       " ('alpine', 0.996509313583374)]"
      ]
     },
     "execution_count": 11,
     "metadata": {},
     "output_type": "execute_result"
    }
   ],
   "source": [
    "# Check the most similar words to a given word (if applicable)\n",
    "model.wv.most_similar(\"laptop\", topn=5)  # Replace \"laptop\" with a word from your dataset\n"
   ]
  },
  {
   "cell_type": "markdown",
   "metadata": {},
   "source": [
    "Visualize Word Embeddings using PCA"
   ]
  },
  {
   "cell_type": "code",
   "execution_count": 32,
   "metadata": {},
   "outputs": [
    {
     "name": "stdout",
     "output_type": "stream",
     "text": [
      "Collecting matplotlib\n",
      "  Downloading matplotlib-3.10.0-cp312-cp312-win_amd64.whl.metadata (11 kB)\n",
      "Collecting contourpy>=1.0.1 (from matplotlib)\n",
      "  Downloading contourpy-1.3.1-cp312-cp312-win_amd64.whl.metadata (5.4 kB)\n",
      "Collecting cycler>=0.10 (from matplotlib)\n",
      "  Using cached cycler-0.12.1-py3-none-any.whl.metadata (3.8 kB)\n",
      "Collecting fonttools>=4.22.0 (from matplotlib)\n",
      "  Downloading fonttools-4.55.8-cp312-cp312-win_amd64.whl.metadata (103 kB)\n",
      "Collecting kiwisolver>=1.3.1 (from matplotlib)\n",
      "  Downloading kiwisolver-1.4.8-cp312-cp312-win_amd64.whl.metadata (6.3 kB)\n",
      "Requirement already satisfied: numpy>=1.23 in c:\\users\\kalop\\onedrive\\desktop\\mdc its\\cai2820c - ai applications\\week4\\.venv\\lib\\site-packages (from matplotlib) (1.26.4)\n",
      "Requirement already satisfied: packaging>=20.0 in c:\\users\\kalop\\onedrive\\desktop\\mdc its\\cai2820c - ai applications\\week4\\.venv\\lib\\site-packages (from matplotlib) (24.2)\n",
      "Requirement already satisfied: pillow>=8 in c:\\users\\kalop\\onedrive\\desktop\\mdc its\\cai2820c - ai applications\\week4\\.venv\\lib\\site-packages (from matplotlib) (11.1.0)\n",
      "Collecting pyparsing>=2.3.1 (from matplotlib)\n",
      "  Downloading pyparsing-3.2.1-py3-none-any.whl.metadata (5.0 kB)\n",
      "Requirement already satisfied: python-dateutil>=2.7 in c:\\users\\kalop\\onedrive\\desktop\\mdc its\\cai2820c - ai applications\\week4\\.venv\\lib\\site-packages (from matplotlib) (2.9.0.post0)\n",
      "Requirement already satisfied: six>=1.5 in c:\\users\\kalop\\onedrive\\desktop\\mdc its\\cai2820c - ai applications\\week4\\.venv\\lib\\site-packages (from python-dateutil>=2.7->matplotlib) (1.17.0)\n",
      "Downloading matplotlib-3.10.0-cp312-cp312-win_amd64.whl (8.0 MB)\n",
      "   ---------------------------------------- 0.0/8.0 MB ? eta -:--:--\n",
      "   ------------------------------------ --- 7.3/8.0 MB 37.8 MB/s eta 0:00:01\n",
      "   ---------------------------------------- 8.0/8.0 MB 19.9 MB/s eta 0:00:00\n",
      "Downloading contourpy-1.3.1-cp312-cp312-win_amd64.whl (220 kB)\n",
      "Using cached cycler-0.12.1-py3-none-any.whl (8.3 kB)\n",
      "Downloading fonttools-4.55.8-cp312-cp312-win_amd64.whl (2.2 MB)\n",
      "   ---------------------------------------- 0.0/2.2 MB ? eta -:--:--\n",
      "   -------------------------------------- - 2.1/2.2 MB 39.0 MB/s eta 0:00:01\n",
      "   ---------------------------------------- 2.2/2.2 MB 8.2 MB/s eta 0:00:00\n",
      "Downloading kiwisolver-1.4.8-cp312-cp312-win_amd64.whl (71 kB)\n",
      "Downloading pyparsing-3.2.1-py3-none-any.whl (107 kB)\n",
      "Installing collected packages: pyparsing, kiwisolver, fonttools, cycler, contourpy, matplotlib\n",
      "Successfully installed contourpy-1.3.1 cycler-0.12.1 fonttools-4.55.8 kiwisolver-1.4.8 matplotlib-3.10.0 pyparsing-3.2.1\n"
     ]
    }
   ],
   "source": [
    "!pip install matplotlib\n"
   ]
  },
  {
   "cell_type": "code",
   "execution_count": null,
   "metadata": {},
   "outputs": [
    {
     "data": {
      "image/png": "[encoded data removed]",
      "text/plain": [
       "<Figure size 1000x800 with 1 Axes>"
      ]
     },
     "metadata": {},
     "output_type": "display_data"
    }
   ],
   "source": [
    "import matplotlib.pyplot as plt\n",
    "import seaborn as sns\n",
    "from sklearn.decomposition import PCA\n",
    "import numpy as np\n",
    "\n",
    "# Extract categories from the product names (first word)\n",
    "df[\"category\"] = df[\"product_name\"].apply(lambda x: x.split()[0] if isinstance(x, str) else \"Other\")\n",
    "\n",
    "# Reduce dimensionality to 2D using PCA\n",
    "pca = PCA(n_components=2)\n",
    "reduced_vectors = pca.fit_transform(vectors)  # 'vectors' contains the 100D product vectors\n",
    "\n",
    "# Assign colors based on unique categories\n",
    "unique_categories = df[\"category\"].unique()\n",
    "category_colors = {category: color for category, color in zip(unique_categories, sns.color_palette(\"hsv\", len(unique_categories)))}\n",
    "\n",
    "# Create a scatter plot\n",
    "plt.figure(figsize=(12, 8))\n",
    "\n",
    "# Plot each product with its corresponding category color\n",
    "for category in unique_categories:\n",
    "    indices = df[df[\"category\"] == category].index\n",
    "    plt.scatter(reduced_vectors[indices, 0], reduced_vectors[indices, 1], \n",
    "                label=category, alpha=0.7, c=[category_colors[category]])\n",
    "\n",
    "# Annotate some points with product names\n",
    "for i in range(15):  # Annotate only the first 15 products for readability\n",
    "    plt.text(reduced_vectors[i, 0], reduced_vectors[i, 1], df[\"product_name\"].iloc[i], fontsize=10, color='black')\n",
    "\n",
    "# Improve visualization aesthetics\n",
    "plt.title(\"PCA Visualization of Product Embeddings (Colored by Category)\", fontsize=14)\n",
    "plt.xlabel(\"PCA Component 1\", fontsize=12)\n",
    "plt.ylabel(\"PCA Component 2\", fontsize=12)\n",
    "plt.legend(title=\"Product Category\", bbox_to_anchor=(1.05, 1), loc=\"upper left\")\n",
    "plt.grid(True)\n",
    "\n",
    "# Show the plot\n",
    "plt.show()\n"
   ]
  },
  {
   "cell_type": "markdown",
   "metadata": {},
   "source": [
    "## Compute Cosine Similarity"
   ]
  },
  {
   "cell_type": "code",
   "execution_count": 34,
   "metadata": {},
   "outputs": [
    {
     "name": "stdout",
     "output_type": "stream",
     "text": [
      "Similarity matrix shape: (500, 500)\n"
     ]
    },
    {
     "data": {
      "text/html": [
       "<div>\n",
       "<style scoped>\n",
       "    .dataframe tbody tr th:only-of-type {\n",
       "        vertical-align: middle;\n",
       "    }\n",
       "\n",
       "    .dataframe tbody tr th {\n",
       "        vertical-align: top;\n",
       "    }\n",
       "\n",
       "    .dataframe thead th {\n",
       "        text-align: right;\n",
       "    }\n",
       "</style>\n",
       "<table border=\"1\" class=\"dataframe\">\n",
       "  <thead>\n",
       "    <tr style=\"text-align: right;\">\n",
       "      <th></th>\n",
       "      <th>0</th>\n",
       "      <th>1</th>\n",
       "      <th>2</th>\n",
       "      <th>3</th>\n",
       "      <th>4</th>\n",
       "    </tr>\n",
       "  </thead>\n",
       "  <tbody>\n",
       "    <tr>\n",
       "      <th>0</th>\n",
       "      <td>1.000000</td>\n",
       "      <td>0.998172</td>\n",
       "      <td>0.997479</td>\n",
       "      <td>0.961955</td>\n",
       "      <td>0.963079</td>\n",
       "    </tr>\n",
       "    <tr>\n",
       "      <th>1</th>\n",
       "      <td>0.998172</td>\n",
       "      <td>1.000000</td>\n",
       "      <td>0.999711</td>\n",
       "      <td>0.973540</td>\n",
       "      <td>0.972289</td>\n",
       "    </tr>\n",
       "    <tr>\n",
       "      <th>2</th>\n",
       "      <td>0.997479</td>\n",
       "      <td>0.999711</td>\n",
       "      <td>1.000000</td>\n",
       "      <td>0.977734</td>\n",
       "      <td>0.976943</td>\n",
       "    </tr>\n",
       "    <tr>\n",
       "      <th>3</th>\n",
       "      <td>0.961955</td>\n",
       "      <td>0.973540</td>\n",
       "      <td>0.977734</td>\n",
       "      <td>1.000000</td>\n",
       "      <td>0.997973</td>\n",
       "    </tr>\n",
       "    <tr>\n",
       "      <th>4</th>\n",
       "      <td>0.963079</td>\n",
       "      <td>0.972289</td>\n",
       "      <td>0.976943</td>\n",
       "      <td>0.997973</td>\n",
       "      <td>1.000000</td>\n",
       "    </tr>\n",
       "  </tbody>\n",
       "</table>\n",
       "</div>"
      ],
      "text/plain": [
       "          0         1         2         3         4\n",
       "0  1.000000  0.998172  0.997479  0.961955  0.963079\n",
       "1  0.998172  1.000000  0.999711  0.973540  0.972289\n",
       "2  0.997479  0.999711  1.000000  0.977734  0.976943\n",
       "3  0.961955  0.973540  0.977734  1.000000  0.997973\n",
       "4  0.963079  0.972289  0.976943  0.997973  1.000000"
      ]
     },
     "execution_count": 34,
     "metadata": {},
     "output_type": "execute_result"
    }
   ],
   "source": [
    "from sklearn.metrics.pairwise import cosine_similarity\n",
    "import numpy as np\n",
    "import pandas as pd\n",
    "\n",
    "# Convert product vectors into a NumPy array\n",
    "vectors_array = np.vstack(df[\"vector\"].values)  # Stack all vectors into a matrix\n",
    "\n",
    "# Compute cosine similarity matrix\n",
    "similarity_matrix = cosine_similarity(vectors_array)\n",
    "\n",
    "# Display the shape of the similarity matrix\n",
    "print(\"Similarity matrix shape:\", similarity_matrix.shape)\n",
    "\n",
    "# Show a sample of the similarity matrix\n",
    "pd.DataFrame(similarity_matrix).iloc[:5, :5]  # Display first 5 rows & 5 columns\n"
   ]
  },
  {
   "cell_type": "markdown",
   "metadata": {},
   "source": [
    "### Build the Recommendation Function"
   ]
  },
  {
   "cell_type": "code",
   "execution_count": 41,
   "metadata": {},
   "outputs": [
    {
     "name": "stdout",
     "output_type": "stream",
     "text": [
      "Index(['id', 'description'], dtype='object')\n"
     ]
    }
   ],
   "source": [
    "print(df.columns)  # This will list all column names\n"
   ]
  },
  {
   "cell_type": "code",
   "execution_count": 42,
   "metadata": {},
   "outputs": [
    {
     "name": "stdout",
     "output_type": "stream",
     "text": [
      "\n",
      "🔹 **Recommendations for Product ID: 1** 🔹\n",
      "\n",
      "🆔 **ID**: 61\n",
      "📖 **Description**: Cap 3 bottoms - Like birds and clouds, kids stay on the move. Their abandon doesn't need purpose, just a little warmth when the sun sets or a quick dry when the water sprays. Worn alone or under layer...\n",
      "\n",
      "🆔 **ID**: 234\n",
      "📖 **Description**: Vitaliti dress - The ocean has had its way with you. Your salted, sun-scorched body begs for mercy. Let this soft, slip-on dress comfort you. Sturdy, wrinkle-resistant Vitaliti fabric blends 61% organ...\n",
      "\n",
      "🆔 **ID**: 171\n",
      "📖 **Description**: Cap 1 bottoms - Made from our lightest-weight Capilene baselayer fabric, these soothing bottoms are soft and silky next to the skin. They wick perspiration, dry quickly, and breathe. A perfect layer u...\n",
      "\n",
      "🆔 **ID**: 264\n",
      "📖 **Description**: R1 p/o - Here's to trails that circle the globe and to never-ending hand cracks. And here's to staying mobile, comfortable and warm with the R1 Pullover's high/low grid polyester that stretches, breat...\n",
      "\n",
      "🆔 **ID**: 164\n",
      "📖 **Description**: Bandha top - This versatile top combines a striking French twist with soft, stretchy fabric. And it's sleeveless, for full arm mobility without sacrificing shoulder coverage. A flattering V-neck vents...\n",
      "\n"
     ]
    }
   ],
   "source": [
    "import numpy as np\n",
    "import pandas as pd\n",
    "\n",
    "def recommend_products(product_id, num_recommendations=5):\n",
    "    \"\"\"\n",
    "    Given a product ID, return the top N most similar products based on cosine similarity.\n",
    "    \"\"\"\n",
    "    try:\n",
    "        # ✅ Find the index of the selected product\n",
    "        product_index = df[df[\"id\"] == product_id].index[0]\n",
    "\n",
    "        # ✅ Get similarity scores for the selected product\n",
    "        similarity_scores = similarity_matrix[product_index]\n",
    "\n",
    "        # ✅ Get indices of the top N similar products (excluding itself)\n",
    "        similar_indices = np.argsort(similarity_scores)[-num_recommendations-1:-1][::-1]\n",
    "\n",
    "        # ✅ Retrieve recommended product details (Only using 'id' and 'description')\n",
    "        recommendations = df.iloc[similar_indices][[\"id\", \"description\"]]\n",
    "\n",
    "        # ✅ Shorten descriptions for better readability\n",
    "        recommendations[\"short_description\"] = recommendations[\"description\"].apply(lambda x: x[:200] + \"...\" if len(x) > 200 else x)\n",
    "\n",
    "        # ✅ Display formatted recommendations\n",
    "        print(f\"\\n🔹 **Recommendations for Product ID: {product_id}** 🔹\\n\")\n",
    "        for idx, row in recommendations.iterrows():\n",
    "            print(f\"🆔 **ID**: {row['id']}\")\n",
    "            print(f\"📖 **Description**: {row['short_description']}\\n\")\n",
    "\n",
    "        return recommendations[[\"id\", \"short_description\"]]\n",
    "\n",
    "    except IndexError:\n",
    "        print(f\"❌ Error: Product ID {product_id} not found in dataset.\")\n",
    "        return pd.DataFrame()  # Return empty dataframe if product ID is invalid\n",
    "\n",
    "# ✅ Test the function with a sample product ID\n",
    "sample_product_id = df[\"id\"].iloc[0]  # Selecting the first product\n",
    "recommendations = recommend_products(sample_product_id)\n"
   ]
  }
 ],
 "metadata": {
  "kernelspec": {
   "display_name": ".venv",
   "language": "python",
   "name": "python3"
  },
  "language_info": {
   "codemirror_mode": {
    "name": "ipython",
    "version": 3
   },
   "file_extension": ".py",
   "mimetype": "text/x-python",
   "name": "python",
   "nbconvert_exporter": "python",
   "pygments_lexer": "ipython3",
   "version": "3.12.6"
  }
 },
 "nbformat": 4,
 "nbformat_minor": 2
}
